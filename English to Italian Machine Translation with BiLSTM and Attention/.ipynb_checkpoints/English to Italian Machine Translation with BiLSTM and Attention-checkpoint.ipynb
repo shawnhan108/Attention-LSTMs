{
 "cells": [
  {
   "cell_type": "markdown",
   "metadata": {},
   "source": [
    "# Introduction"
   ]
  },
  {
   "cell_type": "markdown",
   "metadata": {},
   "source": [
    "RNNs is a popular approach for machine translation, and is adopted by various applications including Google Translate. This project seeks to perform a basic machine translation task using an encoder-decoder-based seq2seq model combined with an attention mechanism. The encoder is a Bidirectional LSTM and the decoder is a simple LSTM. The attention is an additive attention mechanism, which uses attention weights ($\\alpha$) and parameterizes the context vector using feed-forward network layers. This mechanism is proposed by Bahdanau et al., in their paper [*Neural Machine Translation By Jointly Learning to Align and Translate*](https://arxiv.org/pdf/1409.0473.pdf) published in 2015.\n",
    "\n",
    "The model is trained on multiple data sources. The word feature vector data is retrieved from [*nlp.standford.edu.*](https://nlp.stanford.edu/data/glove.6B.zip) and is approximately 350MB in size. The data of English-Italian tab-delimited sentence pairs, which is originally collected for the Tatoeba Project, is retrieved from [manythings.org](http://www.manythings.org/anki/), and is approximately 50MB in size. The training time is within 2 hours (for 35 epochs).\n",
    "\n",
    "The model achieves an accuracy of 0.85 on validation data, although the translated sentences differ from the groundtruths to a considerable extent."
   ]
  },
  {
   "cell_type": "markdown",
   "metadata": {},
   "source": [
    "# Data Preprocessing"
   ]
  },
  {
   "cell_type": "markdown",
   "metadata": {},
   "source": [
    "Import basic libraries."
   ]
  },
  {
   "cell_type": "code",
   "execution_count": 1,
   "metadata": {},
   "outputs": [],
   "source": [
    "import os, sys\n",
    "\n",
    "import numpy as np\n",
    "import pandas as pd\n",
    "from matplotlib import pyplot as plt\n",
    "%matplotlib inline"
   ]
  },
  {
   "cell_type": "markdown",
   "metadata": {},
   "source": [
    "Set basic parameters."
   ]
  },
  {
   "cell_type": "code",
   "execution_count": 2,
   "metadata": {},
   "outputs": [],
   "source": [
    "BATCHSIZE = 128\n",
    "EPOCH = 35\n",
    "LATENT_DIM = 500\n",
    "LATENT_DIM_DECODER = LATENT_DIM\n",
    "SAMPLES = 23000\n",
    "MAX_WORD_NUM = SAMPLES\n",
    "MAX_SEQ_LEN = 100\n",
    "EMBEDDING = MAX_SEQ_LEN"
   ]
  },
  {
   "cell_type": "markdown",
   "metadata": {},
   "source": [
    "Store data from textfile to usable arrays."
   ]
  },
  {
   "cell_type": "code",
   "execution_count": 3,
   "metadata": {},
   "outputs": [
    {
     "name": "stdout",
     "output_type": "stream",
     "text": [
      "Sample Count: 2000.\n",
      "Sample Count: 4000.\n",
      "Sample Count: 6000.\n",
      "Sample Count: 8000.\n",
      "Sample Count: 10000.\n",
      "Sample Count: 12000.\n",
      "Sample Count: 14000.\n",
      "Sample Count: 16000.\n",
      "Sample Count: 18000.\n",
      "Sample Count: 20000.\n",
      "Sample Count: 22000.\n"
     ]
    }
   ],
   "source": [
    "eng = []\n",
    "man = []\n",
    "man_inputs = []\n",
    "count = 0\n",
    "\n",
    "# preprocess the translation file\n",
    "for line in open('Italian.txt'):\n",
    "    if '\\t' not in line:\n",
    "        continue\n",
    "    \n",
    "    count += 1\n",
    "    if (count > SAMPLES):\n",
    "        break\n",
    "    \n",
    "    # split original and translation into lists\n",
    "    e, m, _ = line.rstrip().split('\\t')\n",
    "    eng.append(e)\n",
    "    man.append(m + ' <eos>')\n",
    "    man_inputs.append('<sos> ' + m)\n",
    "    \n",
    "    if (count % 2000 == 0):\n",
    "        print ('Sample Count: {}.'.format(count))"
   ]
  },
  {
   "cell_type": "markdown",
   "metadata": {},
   "source": [
    "Tokenize the input and output sentences, and create maps that can be used by the network."
   ]
  },
  {
   "cell_type": "code",
   "execution_count": 4,
   "metadata": {},
   "outputs": [
    {
     "name": "stderr",
     "output_type": "stream",
     "text": [
      "Using TensorFlow backend.\n"
     ]
    },
    {
     "name": "stdout",
     "output_type": "stream",
     "text": [
      "Number of input tokens: 2565\n",
      "Maximum input sequence length: 5\n",
      "Number of output tokens: 8143\n",
      "Maximum output sequence length: 9\n"
     ]
    }
   ],
   "source": [
    "from keras.preprocessing.text import Tokenizer\n",
    "from keras.preprocessing.sequence import pad_sequences\n",
    "\n",
    "# tokenize input and generate idx map\n",
    "tok_in = Tokenizer(num_words=MAX_WORD_NUM)\n",
    "tok_in.fit_on_texts(eng)\n",
    "eng_seq = tok_in.texts_to_sequences(eng)\n",
    "word2idx_in = tok_in.word_index\n",
    "max_in_len = max(len(s) for s in eng_seq)\n",
    "\n",
    "print(\"Number of input tokens: {}\".format(len(word2idx_in)))\n",
    "print(\"Maximum input sequence length: {}\".format(max_in_len))\n",
    "\n",
    "# tokenize output and generate idx map\n",
    "tok_out = Tokenizer(num_words=MAX_WORD_NUM, filters='')\n",
    "tok_out.fit_on_texts(man + man_inputs)\n",
    "man_seq = tok_out.texts_to_sequences(man)\n",
    "man_seq_inputs = tok_out.texts_to_sequences(man_inputs)\n",
    "word2idx_out = tok_out.word_index\n",
    "max_out_len = max(len(s) for s in man_seq)\n",
    "out_word_num = len(word2idx_out) + 1\n",
    "\n",
    "print(\"Number of output tokens: {}\".format(len(word2idx_out)))\n",
    "print(\"Maximum output sequence length: {}\".format(max_out_len))"
   ]
  },
  {
   "cell_type": "markdown",
   "metadata": {},
   "source": [
    "Pad the input and output sequences to be the same length."
   ]
  },
  {
   "cell_type": "code",
   "execution_count": 5,
   "metadata": {},
   "outputs": [],
   "source": [
    "from keras.preprocessing.sequence import pad_sequences\n",
    "\n",
    "eng_seq_padded = pad_sequences(eng_seq, maxlen=max_in_len)\n",
    "man_seq_padded = pad_sequences(man_seq, maxlen=max_out_len, padding='post')\n",
    "man_seq_inputs_padded = pad_sequences(man_seq_inputs, maxlen=max_out_len, padding='post')"
   ]
  },
  {
   "cell_type": "markdown",
   "metadata": {},
   "source": [
    "Load in word vectors and use them to create word embeddings. [The dataset](https://nlp.stanford.edu/data/glove.6B.zip) of the word vectors is downloaded from *nlp.stanford.edu*."
   ]
  },
  {
   "cell_type": "code",
   "execution_count": 6,
   "metadata": {},
   "outputs": [
    {
     "name": "stdout",
     "output_type": "stream",
     "text": [
      "Loading wordVec\n",
      "Finished loading wordVec.\n"
     ]
    }
   ],
   "source": [
    "wordVec = {}\n",
    "\n",
    "print('Loading wordVec')\n",
    "\n",
    "# load in word vectors in a dict\n",
    "with open('glove.6B.100d.txt') as f:\n",
    "    for line in f:\n",
    "        data = line.split()\n",
    "        word = data[0]\n",
    "        vec = np.asarray(data[1:], dtype='float32')\n",
    "        wordVec[word] = vec\n",
    "\n",
    "print('Finished loading wordVec.')"
   ]
  },
  {
   "cell_type": "code",
   "execution_count": 7,
   "metadata": {},
   "outputs": [],
   "source": [
    "wordNum = min(MAX_WORD_NUM, len(word2idx_in) + 1)\n",
    "word_embedding = np.zeros((wordNum, EMBEDDING))\n",
    "\n",
    "# create word embedding by fetching each word vector\n",
    "for tok, idx in word2idx_in.items():\n",
    "    if idx < MAX_WORD_NUM:\n",
    "        word_vector = wordVec.get(tok)\n",
    "        if word_vector is not None:\n",
    "            word_embedding[idx] = word_vector"
   ]
  },
  {
   "cell_type": "markdown",
   "metadata": {},
   "source": [
    "Create translated target matrix by loading the padded output target sequence using one-hot encoding."
   ]
  },
  {
   "cell_type": "code",
   "execution_count": 8,
   "metadata": {},
   "outputs": [],
   "source": [
    "man_target_one_hot = np.zeros((len(eng), max_out_len, out_word_num), dtype='float32')\n",
    "\n",
    "for idx, tokVec in enumerate(man_seq_padded):\n",
    "    for tok_idx, tok in enumerate(tokVec):\n",
    "        if (tok > 0):\n",
    "            man_target_one_hot[idx, tok_idx, tok] = 1"
   ]
  },
  {
   "cell_type": "markdown",
   "metadata": {},
   "source": [
    "# Model Definition"
   ]
  },
  {
   "cell_type": "markdown",
   "metadata": {},
   "source": [
    "Create the encoder and decoder before attention."
   ]
  },
  {
   "cell_type": "code",
   "execution_count": 9,
   "metadata": {},
   "outputs": [
    {
     "name": "stdout",
     "output_type": "stream",
     "text": [
      "WARNING:tensorflow:From /Users/yushuohan/opt/anaconda3/lib/python3.7/site-packages/tensorflow_core/python/ops/resource_variable_ops.py:1630: calling BaseResourceVariable.__init__ (from tensorflow.python.ops.resource_variable_ops) with constraint is deprecated and will be removed in a future version.\n",
      "Instructions for updating:\n",
      "If using Keras pass *_constraint arguments to layers.\n"
     ]
    }
   ],
   "source": [
    "from keras.layers import Embedding, Input, LSTM, GRU, Dense, Bidirectional, RepeatVector, Concatenate, Activation, Dot, Lambda\n",
    "import keras.backend as K\n",
    "from keras.models import Model\n",
    "\n",
    "# Embedding\n",
    "embedding = Embedding(wordNum, EMBEDDING, weights=[word_embedding], input_length=max_in_len)\n",
    "\n",
    "# Encoder\n",
    "input_layer_encoder = Input(shape=(max_in_len,))\n",
    "embed_encoder = embedding(input_layer_encoder)\n",
    "encoder = Bidirectional(LSTM(LATENT_DIM, return_sequences=True, dropout=0.2))\n",
    "encoder_out = encoder(embed_encoder)\n",
    "\n",
    "# Decoder input\n",
    "input_layer_decoder = Input(shape=(max_out_len,))\n",
    "embed_decoder = Embedding(out_word_num, EMBEDDING)\n",
    "decoder_input = embed_decoder(input_layer_decoder)\n",
    "\n",
    "# Decoder output, after attention\n",
    "decoder = LSTM(LATENT_DIM_DECODER, return_state=True)\n",
    "dense_decode = Dense(out_word_num, activation='softmax')\n",
    "s0 = Input(shape=(LATENT_DIM_DECODER,))\n",
    "c0 = Input(shape=(LATENT_DIM_DECODER,))"
   ]
  },
  {
   "cell_type": "markdown",
   "metadata": {},
   "source": [
    "Implementation of Attention. \n",
    "\n",
    "In each attention iteration, the hidden states, encoded by the encoder, is concatenated with the predicted output of the previous word. During training and using teacher forcing, this predicted output is replaced by the groundtruth translation. The concatenated result is subsequently passed through dense layers (a feedfoward NN) to form the alpha attention weights. The weights are then used to compute the context vector by performing dot product: $context=\\sum_{t'=1}^{|T_{x}|} \\alpha(t')h(t')$. Eventually, the context vector is passed through a \"softmax over time\" layer to become the input to the decoder LSTM. The \"softmax over time\" activation function is implemented as follows: \n",
    "$\\alpha(t') = \\dfrac {exp(s(t'))}{\\sum_{x=1}^{|T_{x}|} exp(s(x)) }$. \n",
    "\n",
    "<img src=\"attention.png\">"
   ]
  },
  {
   "cell_type": "code",
   "execution_count": 10,
   "metadata": {},
   "outputs": [],
   "source": [
    "# Dimension of x is N x T x D.\n",
    "def softmax(x):\n",
    "    assert(K.ndim(x) > 2)\n",
    "    e = K.exp(x - K.max(x, axis=1, keepdims=True))\n",
    "    s = K.sum(e, axis=1, keepdims=True)\n",
    "    return e / s\n",
    "\n",
    "# Some of the common layers for attention\n",
    "repeat_attn = RepeatVector(max_in_len)\n",
    "concat_attn = Concatenate(axis=-1)\n",
    "dense1_attn = Dense(10, activation='tanh')  # over time dimension T\n",
    "dense2_attn = Dense(1, activation=softmax)\n",
    "dot_attn = Dot(axes=1)                      # over time dimension T\n",
    "\n",
    "def iterAttn(h, prevOut):\n",
    "    \"\"\"\n",
    "    h: encoder encoded hidden states at all time.\n",
    "    prevOut: output at the previous time (word).\n",
    "    An iteration of attention.\n",
    "    \"\"\"\n",
    "    prevOutRepeat = repeat_attn(prevOut) # Tx, LATENT_DIM_DECODE\n",
    "    total = concat_attn([h, prevOutRepeat]) # Tx, LATENT_DIM_DECODE + LATENT_DIM * 2\n",
    "    d = dense1_attn(total)\n",
    "    alphaLayer = dense2_attn(d)\n",
    "    context = dot_attn([alphaLayer, h])\n",
    "    \n",
    "    return context"
   ]
  },
  {
   "cell_type": "markdown",
   "metadata": {},
   "source": [
    "Execute encoder-decoder and attention (with teacher forcing) inference for $Ty$ times, to get a list of outputs."
   ]
  },
  {
   "cell_type": "code",
   "execution_count": 11,
   "metadata": {},
   "outputs": [],
   "source": [
    "s = s0\n",
    "c = c0\n",
    "\n",
    "# Iterate attention Ty times\n",
    "all_out = []\n",
    "for t in range(max_out_len):\n",
    "    # Get context vector with encoder and attention\n",
    "    context = iterAttn(encoder_out, s) \n",
    "    \n",
    "    # For teacher forcing, get the previous word\n",
    "    select_layer = Lambda(lambda x: x[:, t:t+1])\n",
    "    prevWord = select_layer(decoder_input)\n",
    "    \n",
    "    # Concat context and previous word as decoder input\n",
    "    concat2 = Concatenate(axis=2)\n",
    "    decoder_in_concat = concat2([context, prevWord])\n",
    "    \n",
    "    # pass into decoder, inference output\n",
    "    pred, s, c = decoder(decoder_in_concat, initial_state=[s, c])\n",
    "    pred = dense_decode(pred)\n",
    "    all_out.append(pred)"
   ]
  },
  {
   "cell_type": "markdown",
   "metadata": {},
   "source": [
    "The output needs to be stacked to be considered as the network's output. Also, need batchsize N to be the first dimension, and thus a permutation of dimensions is required. Afterwards, the model can be defined."
   ]
  },
  {
   "cell_type": "code",
   "execution_count": 12,
   "metadata": {},
   "outputs": [],
   "source": [
    "def stack(outputs):\n",
    "    outputs = K.stack(outputs)\n",
    "    return K.permute_dimensions(outputs, pattern=(1, 0, 2))\n",
    "\n",
    "stack_layer = Lambda(stack)\n",
    "all_out = stack_layer(all_out)"
   ]
  },
  {
   "cell_type": "code",
   "execution_count": 13,
   "metadata": {},
   "outputs": [],
   "source": [
    "attnModel = Model(inputs=[input_layer_encoder, input_layer_decoder, s0, c0,],\n",
    "                 outputs=all_out)"
   ]
  },
  {
   "cell_type": "markdown",
   "metadata": {},
   "source": [
    "# Model Training"
   ]
  },
  {
   "cell_type": "markdown",
   "metadata": {},
   "source": [
    "First, define customized loss and accuracy metrics for training."
   ]
  },
  {
   "cell_type": "code",
   "execution_count": 14,
   "metadata": {},
   "outputs": [],
   "source": [
    "def myLoss(y_train, pred):\n",
    "    mask = K.cast(y_train > 0, dtype='float32')\n",
    "    val = mask * y_train * K.log(pred)\n",
    "    return -K.sum(val) / K.sum(mask)\n",
    "\n",
    "def acc(y_train, pred):\n",
    "    targ = K.argmax(y_train, axis=-1)\n",
    "    pred = K.argmax(pred, axis=-1)\n",
    "    correct = K.cast(K.equal(targ, pred), dtype='float32')\n",
    "\n",
    "    mask = K.cast(K.greater(targ, 0), dtype='float32') # filter out padding value 0.\n",
    "    correctCount = K.sum(mask * correct)\n",
    "    totalCount = K.sum(mask)\n",
    "    return correctCount / totalCount"
   ]
  },
  {
   "cell_type": "markdown",
   "metadata": {},
   "source": [
    "Train model using Adam optimizer and defined loss and metrics. "
   ]
  },
  {
   "cell_type": "code",
   "execution_count": 15,
   "metadata": {
    "scrolled": false
   },
   "outputs": [
    {
     "name": "stdout",
     "output_type": "stream",
     "text": [
      "WARNING:tensorflow:From /Users/yushuohan/opt/anaconda3/lib/python3.7/site-packages/keras/backend/tensorflow_backend.py:422: The name tf.global_variables is deprecated. Please use tf.compat.v1.global_variables instead.\n",
      "\n",
      "Train on 17940 samples, validate on 5060 samples\n",
      "Epoch 1/35\n",
      "17940/17940 [==============================] - 108s 6ms/step - loss: 5.6283 - acc: 0.2838 - val_loss: 5.1923 - val_acc: 0.2935\n",
      "Epoch 2/35\n",
      "17940/17940 [==============================] - 102s 6ms/step - loss: 4.2970 - acc: 0.3621 - val_loss: 4.1420 - val_acc: 0.4334\n",
      "Epoch 3/35\n",
      "17940/17940 [==============================] - 101s 6ms/step - loss: 3.3200 - acc: 0.5013 - val_loss: 3.4459 - val_acc: 0.5511\n",
      "Epoch 4/35\n",
      "17940/17940 [==============================] - 100s 6ms/step - loss: 2.6225 - acc: 0.6064 - val_loss: 3.0492 - val_acc: 0.6307\n",
      "Epoch 5/35\n",
      "17940/17940 [==============================] - 100s 6ms/step - loss: 2.0952 - acc: 0.6729 - val_loss: 2.8054 - val_acc: 0.6775\n",
      "Epoch 6/35\n",
      "17940/17940 [==============================] - 99s 6ms/step - loss: 1.6551 - acc: 0.7339 - val_loss: 2.6354 - val_acc: 0.7186\n",
      "Epoch 7/35\n",
      "17940/17940 [==============================] - 104s 6ms/step - loss: 1.2842 - acc: 0.7898 - val_loss: 2.5062 - val_acc: 0.7515\n",
      "Epoch 8/35\n",
      "17940/17940 [==============================] - 104s 6ms/step - loss: 0.9744 - acc: 0.8413 - val_loss: 2.3910 - val_acc: 0.7723\n",
      "Epoch 9/35\n",
      "17940/17940 [==============================] - 105s 6ms/step - loss: 0.7250 - acc: 0.8827 - val_loss: 2.3056 - val_acc: 0.7910\n",
      "Epoch 10/35\n",
      "17940/17940 [==============================] - 107s 6ms/step - loss: 0.5306 - acc: 0.9167 - val_loss: 2.2510 - val_acc: 0.8027\n",
      "Epoch 11/35\n",
      "17940/17940 [==============================] - 107s 6ms/step - loss: 0.3837 - acc: 0.9422 - val_loss: 2.1896 - val_acc: 0.8130\n",
      "Epoch 12/35\n",
      "17940/17940 [==============================] - 107s 6ms/step - loss: 0.2766 - acc: 0.9610 - val_loss: 2.1429 - val_acc: 0.8209\n",
      "Epoch 13/35\n",
      "17940/17940 [==============================] - 109s 6ms/step - loss: 0.1985 - acc: 0.9743 - val_loss: 2.1272 - val_acc: 0.8253\n",
      "Epoch 14/35\n",
      "17940/17940 [==============================] - 109s 6ms/step - loss: 0.1435 - acc: 0.9835 - val_loss: 2.0971 - val_acc: 0.8294\n",
      "Epoch 15/35\n",
      "17940/17940 [==============================] - 108s 6ms/step - loss: 0.1045 - acc: 0.9892 - val_loss: 2.0749 - val_acc: 0.8316\n",
      "Epoch 16/35\n",
      "17940/17940 [==============================] - 108s 6ms/step - loss: 0.0767 - acc: 0.9932 - val_loss: 2.0640 - val_acc: 0.8334\n",
      "Epoch 17/35\n",
      "17940/17940 [==============================] - 108s 6ms/step - loss: 0.0567 - acc: 0.9960 - val_loss: 2.0537 - val_acc: 0.8353\n",
      "Epoch 18/35\n",
      "17940/17940 [==============================] - 109s 6ms/step - loss: 0.0426 - acc: 0.9978 - val_loss: 2.0478 - val_acc: 0.8365\n",
      "Epoch 19/35\n",
      "17940/17940 [==============================] - 109s 6ms/step - loss: 0.0324 - acc: 0.9990 - val_loss: 2.0429 - val_acc: 0.8375\n",
      "Epoch 20/35\n",
      "17940/17940 [==============================] - 109s 6ms/step - loss: 0.0254 - acc: 0.9993 - val_loss: 2.0404 - val_acc: 0.8382\n",
      "Epoch 21/35\n",
      "17940/17940 [==============================] - 108s 6ms/step - loss: 0.0202 - acc: 0.9996 - val_loss: 2.0339 - val_acc: 0.8395\n",
      "Epoch 22/35\n",
      "17940/17940 [==============================] - 109s 6ms/step - loss: 0.0162 - acc: 0.9999 - val_loss: 2.0271 - val_acc: 0.8404\n",
      "Epoch 23/35\n",
      "17940/17940 [==============================] - 108s 6ms/step - loss: 0.0133 - acc: 1.0000 - val_loss: 2.0265 - val_acc: 0.8411\n",
      "Epoch 24/35\n",
      "17940/17940 [==============================] - 109s 6ms/step - loss: 0.0112 - acc: 1.0000 - val_loss: 2.0238 - val_acc: 0.8422\n",
      "Epoch 25/35\n",
      "17940/17940 [==============================] - 108s 6ms/step - loss: 0.0094 - acc: 1.0000 - val_loss: 2.0175 - val_acc: 0.8431\n",
      "Epoch 26/35\n",
      "17940/17940 [==============================] - 108s 6ms/step - loss: 0.0082 - acc: 1.0000 - val_loss: 2.0147 - val_acc: 0.8435\n",
      "Epoch 27/35\n",
      "17940/17940 [==============================] - 106s 6ms/step - loss: 0.0071 - acc: 1.0000 - val_loss: 2.0110 - val_acc: 0.8438\n",
      "Epoch 28/35\n",
      "17940/17940 [==============================] - 105s 6ms/step - loss: 0.0062 - acc: 1.0000 - val_loss: 2.0060 - val_acc: 0.8445\n",
      "Epoch 29/35\n",
      "17940/17940 [==============================] - 106s 6ms/step - loss: 0.0055 - acc: 1.0000 - val_loss: 2.0055 - val_acc: 0.8450\n",
      "Epoch 30/35\n",
      "17940/17940 [==============================] - 106s 6ms/step - loss: 0.0049 - acc: 1.0000 - val_loss: 2.0036 - val_acc: 0.8453\n",
      "Epoch 31/35\n",
      "17940/17940 [==============================] - 106s 6ms/step - loss: 0.0043 - acc: 1.0000 - val_loss: 1.9992 - val_acc: 0.8461\n",
      "Epoch 32/35\n",
      "17940/17940 [==============================] - 106s 6ms/step - loss: 0.0039 - acc: 1.0000 - val_loss: 1.9976 - val_acc: 0.8463\n",
      "Epoch 33/35\n",
      "17940/17940 [==============================] - 105s 6ms/step - loss: 0.0035 - acc: 1.0000 - val_loss: 1.9974 - val_acc: 0.8465\n",
      "Epoch 34/35\n",
      "17940/17940 [==============================] - 106s 6ms/step - loss: 0.0031 - acc: 1.0000 - val_loss: 1.9950 - val_acc: 0.8470\n",
      "Epoch 35/35\n",
      "17940/17940 [==============================] - 105s 6ms/step - loss: 0.0029 - acc: 1.0000 - val_loss: 1.9933 - val_acc: 0.8475\n"
     ]
    }
   ],
   "source": [
    "attnModel.compile(optimizer='adam', loss=myLoss, metrics=[acc])\n",
    "\n",
    "# Define empty s0 and c0\n",
    "init_s = np.zeros((len(eng_seq_padded), LATENT_DIM_DECODER))\n",
    "init_c = np.zeros((len(eng_seq_padded), LATENT_DIM_DECODER))\n",
    "\n",
    "# Train\n",
    "history = attnModel.fit(\n",
    "    x=[eng_seq_padded, man_seq_padded, init_s, init_c],\n",
    "    y=man_target_one_hot,\n",
    "    batch_size=BATCHSIZE,\n",
    "    epochs=EPOCH,\n",
    "    validation_split=0.22\n",
    ")"
   ]
  },
  {
   "cell_type": "markdown",
   "metadata": {},
   "source": [
    "Plot training history."
   ]
  },
  {
   "cell_type": "code",
   "execution_count": 16,
   "metadata": {},
   "outputs": [
    {
     "data": {
      "image/png": "[encoded data removed]",
      "text/plain": [
       "<Figure size 432x288 with 1 Axes>"
      ]
     },
     "metadata": {
      "needs_background": "light"
     },
     "output_type": "display_data"
    },
    {
     "data": {
      "image/png": "[encoded data removed]",
      "text/plain": [
       "<Figure size 432x288 with 1 Axes>"
      ]
     },
     "metadata": {
      "needs_background": "light"
     },
     "output_type": "display_data"
    }
   ],
   "source": [
    "plt.plot(history.history['loss'], label='loss')\n",
    "plt.plot(history.history['val_loss'], label='val_loss')\n",
    "plt.legend()\n",
    "plt.show()\n",
    "\n",
    "plt.plot(history.history['acc'], label='acc')\n",
    "plt.plot(history.history['val_acc'], label='val_acc')\n",
    "plt.legend()\n",
    "plt.show()"
   ]
  },
  {
   "cell_type": "code",
   "execution_count": 17,
   "metadata": {},
   "outputs": [],
   "source": [
    "attnModel.save('attention_model_35_man.h5')"
   ]
  },
  {
   "cell_type": "markdown",
   "metadata": {},
   "source": [
    "# Inference Model"
   ]
  },
  {
   "cell_type": "markdown",
   "metadata": {},
   "source": [
    "Since in the inference model teacher forcing is not available, thus the model needs to be modified to use the previous inference result."
   ]
  },
  {
   "cell_type": "code",
   "execution_count": 18,
   "metadata": {},
   "outputs": [],
   "source": [
    "# Encoder\n",
    "encoder_inf = Model(input_layer_encoder, encoder_out)\n",
    "encoder_out_inf = Input(shape=(max_in_len, LATENT_DIM * 2,))\n",
    "\n",
    "# Decoder\n",
    "decoder_in_inf = Input(shape=(1,))\n",
    "decoder_in_embed_inf = embed_decoder(decoder_in_inf)\n",
    "\n",
    "# Context, concat without teacher forcing.\n",
    "context_inf = iterAttn(encoder_out_inf, s0)\n",
    "decoder_in_concat_inf = concat2([context_inf, decoder_in_embed_inf])\n",
    "\n",
    "# Decoder inference\n",
    "pred, s, c = decoder(decoder_in_concat_inf, initial_state=[s0, c0])\n",
    "pred_out = dense_decode(pred)\n",
    "\n",
    "# Define model\n",
    "decoder_inf = Model(\n",
    "    inputs=[decoder_in_inf, encoder_out_inf, s0, c0],\n",
    "    outputs=[pred_out, s, c]\n",
    ")"
   ]
  },
  {
   "cell_type": "markdown",
   "metadata": {},
   "source": [
    "Reverse the word-to-index maps to convert translated indices to words. Then use the inference encoder and decoder models to create predictions."
   ]
  },
  {
   "cell_type": "code",
   "execution_count": 19,
   "metadata": {},
   "outputs": [],
   "source": [
    "idx2word_in = {b:a for a, b in word2idx_in.items()}\n",
    "idx2word_out = {b:a for a, b in word2idx_out.items()}\n",
    "\n",
    "def inference(eng_seq):\n",
    "    # Encode\n",
    "    encoder_output = encoder_inf.predict(eng_seq)\n",
    "    \n",
    "    # Create output seq matrix\n",
    "    target_output = np.zeros((1, 1))\n",
    "    target_output[0, 0] = word2idx_out['<sos>']\n",
    "    \n",
    "    # init\n",
    "    eos = word2idx_out['<eos>']\n",
    "    s0 = np.zeros((1, LATENT_DIM_DECODER))\n",
    "    c0 = np.zeros((1, LATENT_DIM_DECODER))\n",
    "    \n",
    "    output_seq = []\n",
    "    s = s0\n",
    "    c = c0\n",
    "    for _ in range(max_out_len):\n",
    "        # Decoder inference\n",
    "        pred, s, c = decoder_inf.predict([target_output, encoder_output, s, c])\n",
    "        \n",
    "        # update output seq\n",
    "        tok = np.argmax(pred.flatten())\n",
    "        if tok == eos:\n",
    "            break\n",
    "        if tok > 0:\n",
    "            word = idx2word_out[tok]\n",
    "            output_seq.append(word)\n",
    "\n",
    "        # Update decoder input\n",
    "        target_output[0, 0] = tok\n",
    "        \n",
    "    sentence = ' '.join(output_seq)\n",
    "    return sentence"
   ]
  },
  {
   "cell_type": "markdown",
   "metadata": {},
   "source": [
    "Observe some of the sample inference results:"
   ]
  },
  {
   "cell_type": "code",
   "execution_count": 20,
   "metadata": {},
   "outputs": [
    {
     "name": "stdout",
     "output_type": "stream",
     "text": [
      "--------------------------------------\n",
      "English: I'll be good.\n",
      "Prediction: starò buona buona buona buona buona buona buona buona\n",
      "Ground truth: Io sarò buona. <eos>\n",
      "--------------------------------------\n",
      "English: Shut it down.\n",
      "Prediction: abbassatelo. così! morale! morale! morale! morale! morale! morale! morale!\n",
      "Ground truth: Lo spenga. <eos>\n",
      "--------------------------------------\n",
      "English: I helped Tom.\n",
      "Prediction: aiutai boston. boston. boston. boston. boston. boston. boston. boston.\n",
      "Ground truth: Io ho aiutato Tom. <eos>\n",
      "--------------------------------------\n",
      "English: We can't go.\n",
      "Prediction: dovremmo andare? te. te. te. te. te. te. te.\n",
      "Ground truth: Noi non riusciamo ad andare. <eos>\n",
      "--------------------------------------\n",
      "English: You did that.\n",
      "Prediction: potresti cosa? cosa? cosa? cosa? cosa? cosa? cosa? cosa?\n",
      "Ground truth: Tu hai fatto quello. <eos>\n",
      "--------------------------------------\n",
      "English: I'm happy now.\n",
      "Prediction: buon adesso. adesso. adesso. adesso. adesso. adesso. adesso. adesso.\n",
      "Ground truth: Io sono felice adesso. <eos>\n",
      "--------------------------------------\n",
      "English: I enjoy life.\n",
      "Prediction: ascolto twitter. adesso? adesso? adesso? adesso? adesso? adesso? adesso?\n",
      "Ground truth: A me piace la vita. <eos>\n",
      "--------------------------------------\n",
      "English: Stay like that.\n",
      "Prediction: guardateci. quello! quello! est. est. est. est. est. est.\n",
      "Ground truth: Stai così. <eos>\n",
      "--------------------------------------\n",
      "English: I admire you.\n",
      "Prediction: l'ammiro. avvisato. avvisato. avvisato. pattini. pattini. pattini. pattini. pattini.\n",
      "Ground truth: Io vi ammiro. <eos>\n",
      "--------------------------------------\n",
      "English: Please help me.\n",
      "Prediction: ascoltami. aiutarmi. aiutarmi. aiutarmi. aiutarmi. aiutarmi. aiutarmi. aiutarmi. aiutarmi.\n",
      "Ground truth: Mi aiuti, per piacere. <eos>\n",
      "--------------------------------------\n",
      "English: They yelled.\n",
      "Prediction: urlarono. lacrime. lacrime. panico. panico. panico. panico. panico. panico.\n",
      "Ground truth: Loro urlavano. <eos>\n",
      "--------------------------------------\n",
      "English: It was wrong.\n",
      "Prediction: c'era. piangendo. piangendo. piangendo. piangendo. piangendo. piangendo. piangendo. piangendo.\n",
      "Ground truth: Era sbagliata. <eos>\n",
      "--------------------------------------\n",
      "English: They waited.\n",
      "Prediction: svanirono. sedute. sedute. sedute. sedute. sedute. sedute. sedute. sedute.\n",
      "Ground truth: Hanno aspettato. <eos>\n",
      "--------------------------------------\n",
      "English: I'm all ears.\n",
      "Prediction: bruciarono. tanto. tanto. desto? piedi. piedi. piedi. piedi. piedi.\n",
      "Ground truth: Sono tutta orecchie. <eos>\n",
      "--------------------------------------\n",
      "English: I was dreaming.\n",
      "Prediction: stavo piacciono della della della della della della della\n",
      "Ground truth: Stavo sognando. <eos>\n",
      "--------------------------------------\n",
      "English: I like golf.\n",
      "Prediction: disprezzo l'arte. l'arte. ferri. ferri. ferri. ferri. ferri. ferri.\n",
      "Ground truth: Mi piace il golf. <eos>\n",
      "--------------------------------------\n",
      "English: We've done it.\n",
      "Prediction: l'abbiamo l'abbiamo l'abbiamo l'abbiamo uno. uno. uno. uno. uno.\n",
      "Ground truth: Noi l'abbiamo fatto. <eos>\n",
      "--------------------------------------\n",
      "English: I'm truthful.\n",
      "Prediction: soffro soffro\n",
      "Ground truth: Sono sincero. <eos>\n",
      "--------------------------------------\n",
      "English: Let go of them.\n",
      "Prediction: fatemela fatemela così. così. così. così. così. così. così.\n",
      "Ground truth: Lasciali andare. <eos>\n",
      "--------------------------------------\n",
      "English: May I go first?\n",
      "Prediction: potrei fino fino fino fino fino fino fino fino\n",
      "Ground truth: Posso andare per primo? <eos>\n"
     ]
    }
   ],
   "source": [
    "for _ in range(20):\n",
    "    i = np.random.choice(len(eng))\n",
    "    eng_sen = eng_seq_padded[i:i+1]\n",
    "    man_pred = inference(eng_sen)\n",
    "\n",
    "    print('--------------------------------------')\n",
    "    print('English: {}'.format(eng[i]))\n",
    "    print('Prediction: {}'.format(man_pred))\n",
    "    print('Ground truth: {}'.format(man[i])) "
   ]
  },
  {
   "cell_type": "markdown",
   "metadata": {},
   "source": [
    "# Conclusion"
   ]
  },
  {
   "cell_type": "markdown",
   "metadata": {},
   "source": [
    "This project implements an encoder-decoder-based seq2seq model using BiLSTM and attention mechanism. It is observed that the model achieves an accuracy of 0.85 on validation data, although the translated sentences differ from the groundtruth to a considerable extent.\n"
   ]
  }
 ],
 "metadata": {
  "kernelspec": {
   "display_name": "Python 3",
   "language": "python",
   "name": "python3"
  },
  "language_info": {
   "codemirror_mode": {
    "name": "ipython",
    "version": 3
   },
   "file_extension": ".py",
   "mimetype": "text/x-python",
   "name": "python",
   "nbconvert_exporter": "python",
   "pygments_lexer": "ipython3",
   "version": "3.7.6"
  }
 },
 "nbformat": 4,
 "nbformat_minor": 4
}
