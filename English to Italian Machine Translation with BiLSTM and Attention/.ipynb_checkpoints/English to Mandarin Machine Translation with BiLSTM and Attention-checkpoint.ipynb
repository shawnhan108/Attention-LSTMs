{
 "cells": [
  {
   "cell_type": "markdown",
   "metadata": {},
   "source": [
    "# Data Preprocessing"
   ]
  },
  {
   "cell_type": "markdown",
   "metadata": {},
   "source": [
    "Import basic libraries."
   ]
  },
  {
   "cell_type": "code",
   "execution_count": 1,
   "metadata": {},
   "outputs": [],
   "source": [
    "import os, sys\n",
    "\n",
    "import numpy as np\n",
    "import pandas as pd\n",
    "from matplotlib import pyplot as plt\n",
    "%matplotlib inline"
   ]
  },
  {
   "cell_type": "markdown",
   "metadata": {},
   "source": [
    "Set basic parameters."
   ]
  },
  {
   "cell_type": "code",
   "execution_count": 2,
   "metadata": {},
   "outputs": [],
   "source": [
    "BATCHSIZE = 128\n",
    "EPOCH = 35\n",
    "LATENT_DIM = 500\n",
    "LATENT_DIM_DECODER = LATENT_DIM\n",
    "SAMPLES = 23000\n",
    "MAX_WORD_NUM = SAMPLES\n",
    "MAX_SEQ_LEN = 100\n",
    "EMBEDDING = MAX_SEQ_LEN"
   ]
  },
  {
   "cell_type": "markdown",
   "metadata": {},
   "source": [
    "Store data from textfile to usable arrays."
   ]
  },
  {
   "cell_type": "code",
   "execution_count": 3,
   "metadata": {},
   "outputs": [
    {
     "name": "stdout",
     "output_type": "stream",
     "text": [
      "Sample Count: 2000.\n",
      "Sample Count: 4000.\n",
      "Sample Count: 6000.\n",
      "Sample Count: 8000.\n",
      "Sample Count: 10000.\n",
      "Sample Count: 12000.\n",
      "Sample Count: 14000.\n",
      "Sample Count: 16000.\n",
      "Sample Count: 18000.\n",
      "Sample Count: 20000.\n",
      "Sample Count: 22000.\n"
     ]
    }
   ],
   "source": [
    "eng = []\n",
    "man = []\n",
    "man_inputs = []\n",
    "count = 0\n",
    "\n",
    "# preprocess the translation file\n",
    "for line in open('Mandarin.txt'):\n",
    "    if '\\t' not in line:\n",
    "        continue\n",
    "    \n",
    "    count += 1\n",
    "    if (count > SAMPLES):\n",
    "        break\n",
    "    \n",
    "    # split original and translation into lists\n",
    "    e, m, _ = line.rstrip().split('\\t')\n",
    "    eng.append(e)\n",
    "    man.append(m + ' <eos>')\n",
    "    man_inputs.append('<sos> ' + m)\n",
    "    \n",
    "    if (count % 2000 == 0):\n",
    "        print ('Sample Count: {}.'.format(count))"
   ]
  },
  {
   "cell_type": "markdown",
   "metadata": {},
   "source": [
    "Tokenize the input and output sentences, and create maps that can be used by the network."
   ]
  },
  {
   "cell_type": "code",
   "execution_count": 4,
   "metadata": {},
   "outputs": [
    {
     "name": "stderr",
     "output_type": "stream",
     "text": [
      "Using TensorFlow backend.\n"
     ]
    },
    {
     "name": "stdout",
     "output_type": "stream",
     "text": [
      "Number of input tokens: 6377\n",
      "Maximum input sequence length: 14\n",
      "Number of output tokens: 21329\n",
      "Maximum output sequence length: 4\n"
     ]
    }
   ],
   "source": [
    "from keras.preprocessing.text import Tokenizer\n",
    "from keras.preprocessing.sequence import pad_sequences\n",
    "\n",
    "# tokenize input and generate idx map\n",
    "tok_in = Tokenizer(num_words=MAX_WORD_NUM)\n",
    "tok_in.fit_on_texts(eng)\n",
    "eng_seq = tok_in.texts_to_sequences(eng)\n",
    "word2idx_in = tok_in.word_index\n",
    "max_in_len = max(len(s) for s in eng_seq)\n",
    "\n",
    "print(\"Number of input tokens: {}\".format(len(word2idx_in)))\n",
    "print(\"Maximum input sequence length: {}\".format(max_in_len))\n",
    "\n",
    "# tokenize output and generate idx map\n",
    "tok_out = Tokenizer(num_words=MAX_WORD_NUM, filters='')\n",
    "tok_out.fit_on_texts(man + man_inputs)\n",
    "man_seq = tok_out.texts_to_sequences(man)\n",
    "man_seq_inputs = tok_out.texts_to_sequences(man_inputs)\n",
    "word2idx_out = tok_out.word_index\n",
    "max_out_len = max(len(s) for s in man_seq)\n",
    "out_word_num = len(word2idx_out) + 1\n",
    "\n",
    "print(\"Number of output tokens: {}\".format(len(word2idx_out)))\n",
    "print(\"Maximum output sequence length: {}\".format(max_out_len))"
   ]
  },
  {
   "cell_type": "markdown",
   "metadata": {},
   "source": [
    "Pad the input and output sequences to be the same length."
   ]
  },
  {
   "cell_type": "code",
   "execution_count": 5,
   "metadata": {},
   "outputs": [],
   "source": [
    "from keras.preprocessing.sequence import pad_sequences\n",
    "\n",
    "eng_seq_padded = pad_sequences(eng_seq, maxlen=max_in_len)\n",
    "man_seq_padded = pad_sequences(man_seq, maxlen=max_out_len, padding='post')\n",
    "man_seq_inputs_padded = pad_sequences(man_seq_inputs, maxlen=max_out_len, padding='post')"
   ]
  },
  {
   "cell_type": "markdown",
   "metadata": {},
   "source": [
    "Load in word vectors and use them to create word embeddings. [The dataset](https://nlp.stanford.edu/data/glove.6B.zip) of the word vectors is downloaded from *nlp.stanford.edu*."
   ]
  },
  {
   "cell_type": "code",
   "execution_count": 6,
   "metadata": {},
   "outputs": [
    {
     "name": "stdout",
     "output_type": "stream",
     "text": [
      "Loading wordVec\n",
      "Finished loading wordVec.\n"
     ]
    }
   ],
   "source": [
    "wordVec = {}\n",
    "\n",
    "print('Loading wordVec')\n",
    "\n",
    "# load in word vectors in a dict\n",
    "with open('glove.6B.100d.txt') as f:\n",
    "    for line in f:\n",
    "        data = line.split()\n",
    "        word = data[0]\n",
    "        vec = np.asarray(data[1:], dtype='float32')\n",
    "        wordVec[word] = vec\n",
    "\n",
    "print('Finished loading wordVec.')"
   ]
  },
  {
   "cell_type": "code",
   "execution_count": 7,
   "metadata": {},
   "outputs": [],
   "source": [
    "wordNum = min(MAX_WORD_NUM, len(word2idx_in) + 1)\n",
    "word_embedding = np.zeros((wordNum, EMBEDDING))\n",
    "\n",
    "# create word embedding by fetching each word vector\n",
    "for tok, idx in word2idx_in.items():\n",
    "    if idx < MAX_WORD_NUM:\n",
    "        word_vector = wordVec.get(tok)\n",
    "        if word_vector is not None:\n",
    "            word_embedding[idx] = word_vector"
   ]
  },
  {
   "cell_type": "markdown",
   "metadata": {},
   "source": [
    "Create translated target matrix by loading the padded output target sequence using one-hot encoding."
   ]
  },
  {
   "cell_type": "code",
   "execution_count": 8,
   "metadata": {},
   "outputs": [],
   "source": [
    "man_target_one_hot = np.zeros((len(eng), max_out_len, out_word_num), dtype='float32')\n",
    "\n",
    "for idx, tokVec in enumerate(man_seq_padded):\n",
    "    for tok_idx, tok in enumerate(tokVec):\n",
    "        if (tok > 0):\n",
    "            man_target_one_hot[idx, tok_idx, tok] = 1"
   ]
  },
  {
   "cell_type": "markdown",
   "metadata": {},
   "source": [
    "# Model Definition"
   ]
  },
  {
   "cell_type": "markdown",
   "metadata": {},
   "source": [
    "Create the encoder and decoder before attention."
   ]
  },
  {
   "cell_type": "code",
   "execution_count": 9,
   "metadata": {},
   "outputs": [
    {
     "name": "stdout",
     "output_type": "stream",
     "text": [
      "WARNING:tensorflow:From /Users/yushuohan/opt/anaconda3/lib/python3.7/site-packages/tensorflow_core/python/ops/resource_variable_ops.py:1630: calling BaseResourceVariable.__init__ (from tensorflow.python.ops.resource_variable_ops) with constraint is deprecated and will be removed in a future version.\n",
      "Instructions for updating:\n",
      "If using Keras pass *_constraint arguments to layers.\n"
     ]
    }
   ],
   "source": [
    "from keras.layers import Embedding, Input, LSTM, GRU, Dense, Bidirectional, RepeatVector, Concatenate, Activation, Dot, Lambda\n",
    "import keras.backend as K\n",
    "from keras.models import Model\n",
    "\n",
    "# Embedding\n",
    "embedding = Embedding(wordNum, EMBEDDING, weights=[word_embedding], input_length=max_in_len)\n",
    "\n",
    "# Encoder\n",
    "input_layer_encoder = Input(shape=(max_in_len,))\n",
    "embed_encoder = embedding(input_layer_encoder)\n",
    "encoder = Bidirectional(LSTM(LATENT_DIM, return_sequences=True, dropout=0.2))\n",
    "encoder_out = encoder(embed_encoder)\n",
    "\n",
    "# Decoder input\n",
    "input_layer_decoder = Input(shape=(max_out_len,))\n",
    "embed_decoder = Embedding(out_word_num, EMBEDDING)\n",
    "decoder_input = embed_decoder(input_layer_decoder)\n",
    "\n",
    "# Decoder output, after attention\n",
    "decoder = LSTM(LATENT_DIM_DECODER, return_state=True)\n",
    "dense_decode = Dense(out_word_num, activation='softmax')\n",
    "s0 = Input(shape=(LATENT_DIM_DECODER,))\n",
    "c0 = Input(shape=(LATENT_DIM_DECODER,))"
   ]
  },
  {
   "cell_type": "markdown",
   "metadata": {},
   "source": [
    "Implementation of Attention. \n",
    "First, the \"softmax over time\" activation function is implemented as follows: \n",
    "$\\alpha(t') = \\dfrac {exp(s(t'))}{\\sum_{x=1}^{|T_{x}|} exp(s(x)) }$. Context layer after all alpha attention weights are calculated is computed as follows: $context=\\sum_{t'=1}^{|T_{x}|} \\alpha(t')h(t')$. \n",
    "\n",
    "<img src=\"attention.png\">"
   ]
  },
  {
   "cell_type": "code",
   "execution_count": 10,
   "metadata": {},
   "outputs": [],
   "source": [
    "# Dimension of x is N x T x D.\n",
    "def softmax(x):\n",
    "    assert(K.ndim(x) > 2)\n",
    "    e = K.exp(x - K.max(x, axis=1, keepdims=True))\n",
    "    s = K.sum(e, axis=1, keepdims=True)\n",
    "    return e / s\n",
    "\n",
    "# Some of the common layers for attention\n",
    "repeat_attn = RepeatVector(max_in_len)\n",
    "concat_attn = Concatenate(axis=-1)\n",
    "dense1_attn = Dense(10, activation='tanh')  # over time dimension T\n",
    "dense2_attn = Dense(1, activation=softmax)\n",
    "dot_attn = Dot(axes=1)                      # over time dimension T\n",
    "\n",
    "def iterAttn(h, prevOut):\n",
    "    \"\"\"\n",
    "    h: encoder encoded hidden states at all time.\n",
    "    prevOut: output at the previous time (word).\n",
    "    An iteration of attention.\n",
    "    \"\"\"\n",
    "    prevOutRepeat = repeat_attn(prevOut) # Tx, LATENT_DIM_DECODE\n",
    "    total = concat_attn([h, prevOutRepeat]) # Tx, LATENT_DIM_DECODE + LATENT_DIM * 2\n",
    "    d = dense1_attn(total)\n",
    "    alphaLayer = dense2_attn(d)\n",
    "    context = dot_attn([alphaLayer, h])\n",
    "    \n",
    "    return context"
   ]
  },
  {
   "cell_type": "markdown",
   "metadata": {},
   "source": [
    "Execute encoder-decoder and attention (with teacher forcing) inference for $Ty$ times, to get a list of outputs."
   ]
  },
  {
   "cell_type": "code",
   "execution_count": 11,
   "metadata": {},
   "outputs": [],
   "source": [
    "s = s0\n",
    "c = c0\n",
    "\n",
    "# Iterate attention Ty times\n",
    "all_out = []\n",
    "for t in range(max_out_len):\n",
    "    # Get context vector with encoder and attention\n",
    "    context = iterAttn(encoder_out, s) \n",
    "    \n",
    "    # For teacher forcing, get the previous word\n",
    "    select_layer = Lambda(lambda x: x[:, t:t+1])\n",
    "    prevWord = select_layer(decoder_input)\n",
    "    \n",
    "    # Concat context and previous word as decoder input\n",
    "    concat2 = Concatenate(axis=2)\n",
    "    decoder_in_concat = concat2([context, prevWord])\n",
    "    \n",
    "    # pass into decoder, inference output\n",
    "    pred, s, c = decoder(decoder_in_concat, initial_state=[s, c])\n",
    "    pred = dense_decode(pred)\n",
    "    all_out.append(pred)"
   ]
  },
  {
   "cell_type": "markdown",
   "metadata": {},
   "source": [
    "The output needs to be stacked to be considered as the network's output. Also, need batchsize N to be the first dimension, and thus a permutation of dimensions is required. Afterwards, the model can be defined."
   ]
  },
  {
   "cell_type": "code",
   "execution_count": 12,
   "metadata": {},
   "outputs": [],
   "source": [
    "def stack(outputs):\n",
    "    outputs = K.stack(outputs)\n",
    "    return K.permute_dimensions(outputs, pattern=(1, 0, 2))\n",
    "\n",
    "stack_layer = Lambda(stack)\n",
    "all_out = stack_layer(all_out)"
   ]
  },
  {
   "cell_type": "code",
   "execution_count": 13,
   "metadata": {},
   "outputs": [],
   "source": [
    "attnModel = Model(inputs=[input_layer_encoder, input_layer_decoder, s0, c0,],\n",
    "                 outputs=all_out)"
   ]
  },
  {
   "cell_type": "markdown",
   "metadata": {},
   "source": [
    "# Model Training"
   ]
  },
  {
   "cell_type": "markdown",
   "metadata": {},
   "source": [
    "First, define customized loss and accuracy metrics for training."
   ]
  },
  {
   "cell_type": "code",
   "execution_count": 14,
   "metadata": {},
   "outputs": [],
   "source": [
    "def myLoss(y_train, pred):\n",
    "    mask = K.cast(y_train > 0, dtype='float32')\n",
    "    val = mask * y_train * K.log(pred)\n",
    "    return -K.sum(val) / K.sum(mask)\n",
    "\n",
    "def acc(y_train, pred):\n",
    "    targ = K.argmax(y_train, axis=-1)\n",
    "    pred = K.argmax(pred, axis=-1)\n",
    "    correct = K.cast(K.equal(targ, pred), dtype='float32')\n",
    "\n",
    "    mask = K.cast(K.greater(targ, 0), dtype='float32') # filter out padding value 0.\n",
    "    correctCount = K.sum(mask * correct)\n",
    "    totalCount = K.sum(mask)\n",
    "    return correctCount / totalCount"
   ]
  },
  {
   "cell_type": "markdown",
   "metadata": {},
   "source": [
    "Train model using Adam optimizer and defined loss and metrics. "
   ]
  },
  {
   "cell_type": "code",
   "execution_count": 15,
   "metadata": {
    "scrolled": false
   },
   "outputs": [
    {
     "name": "stdout",
     "output_type": "stream",
     "text": [
      "WARNING:tensorflow:From /Users/yushuohan/opt/anaconda3/lib/python3.7/site-packages/keras/backend/tensorflow_backend.py:422: The name tf.global_variables is deprecated. Please use tf.compat.v1.global_variables instead.\n",
      "\n",
      "Train on 17940 samples, validate on 5060 samples\n",
      "Epoch 1/35\n",
      "17940/17940 [==============================] - 134s 7ms/step - loss: 5.8792 - acc: 0.4957 - val_loss: 5.3624 - val_acc: 0.4960\n",
      "Epoch 2/35\n",
      "17940/17940 [==============================] - 128s 7ms/step - loss: 4.9550 - acc: 0.4992 - val_loss: 5.5089 - val_acc: 0.4960\n",
      "Epoch 3/35\n",
      "17940/17940 [==============================] - 126s 7ms/step - loss: 4.8450 - acc: 0.4993 - val_loss: 6.1701 - val_acc: 0.4960\n",
      "Epoch 4/35\n",
      "17940/17940 [==============================] - 127s 7ms/step - loss: 4.7360 - acc: 0.4993 - val_loss: 5.8372 - val_acc: 0.4960\n",
      "Epoch 5/35\n",
      "17940/17940 [==============================] - 128s 7ms/step - loss: 4.6448 - acc: 0.4993 - val_loss: 6.1173 - val_acc: 0.4960\n",
      "Epoch 6/35\n",
      "17940/17940 [==============================] - 127s 7ms/step - loss: 4.5295 - acc: 0.4993 - val_loss: 6.2621 - val_acc: 0.4960\n",
      "Epoch 7/35\n",
      "17940/17940 [==============================] - 127s 7ms/step - loss: 4.4229 - acc: 0.4995 - val_loss: 6.5318 - val_acc: 0.4963\n",
      "Epoch 8/35\n",
      "17940/17940 [==============================] - 127s 7ms/step - loss: 4.3198 - acc: 0.4995 - val_loss: 6.7375 - val_acc: 0.4963\n",
      "Epoch 9/35\n",
      "17940/17940 [==============================] - 125s 7ms/step - loss: 4.1723 - acc: 0.5003 - val_loss: 6.8745 - val_acc: 0.4963\n",
      "Epoch 10/35\n",
      "17940/17940 [==============================] - 128s 7ms/step - loss: 3.9700 - acc: 0.5013 - val_loss: 7.0868 - val_acc: 0.4965\n",
      "Epoch 11/35\n",
      "17940/17940 [==============================] - 132s 7ms/step - loss: 3.7441 - acc: 0.5031 - val_loss: 7.1127 - val_acc: 0.4970\n",
      "Epoch 12/35\n",
      "17940/17940 [==============================] - 134s 7ms/step - loss: 3.4788 - acc: 0.5065 - val_loss: 7.3754 - val_acc: 0.4974\n",
      "Epoch 13/35\n",
      "17940/17940 [==============================] - 135s 8ms/step - loss: 3.1428 - acc: 0.5163 - val_loss: 7.5711 - val_acc: 0.4984\n",
      "Epoch 14/35\n",
      "17940/17940 [==============================] - 135s 8ms/step - loss: 2.7232 - acc: 0.5373 - val_loss: 7.6984 - val_acc: 0.4995\n",
      "Epoch 15/35\n",
      "17940/17940 [==============================] - 137s 8ms/step - loss: 2.2353 - acc: 0.5812 - val_loss: 7.8085 - val_acc: 0.5004\n",
      "Epoch 16/35\n",
      "17940/17940 [==============================] - 137s 8ms/step - loss: 1.7187 - acc: 0.6693 - val_loss: 7.9933 - val_acc: 0.5017\n",
      "Epoch 17/35\n",
      "17940/17940 [==============================] - 136s 8ms/step - loss: 1.2078 - acc: 0.8169 - val_loss: 8.3046 - val_acc: 0.5020\n",
      "Epoch 18/35\n",
      "17940/17940 [==============================] - 136s 8ms/step - loss: 0.7430 - acc: 0.9485 - val_loss: 8.5223 - val_acc: 0.5029\n",
      "Epoch 19/35\n",
      "17940/17940 [==============================] - 137s 8ms/step - loss: 0.3865 - acc: 0.9939 - val_loss: 8.6786 - val_acc: 0.5032\n",
      "Epoch 20/35\n",
      "17940/17940 [==============================] - 137s 8ms/step - loss: 0.1829 - acc: 0.9995 - val_loss: 8.9296 - val_acc: 0.5023\n",
      "Epoch 21/35\n",
      "17940/17940 [==============================] - 136s 8ms/step - loss: 0.0971 - acc: 0.9999 - val_loss: 9.0438 - val_acc: 0.5016\n",
      "Epoch 22/35\n",
      "17940/17940 [==============================] - 136s 8ms/step - loss: 0.0632 - acc: 1.0000 - val_loss: 9.1343 - val_acc: 0.5013\n",
      "Epoch 23/35\n",
      "17940/17940 [==============================] - 136s 8ms/step - loss: 0.0466 - acc: 1.0000 - val_loss: 9.2180 - val_acc: 0.5015\n",
      "Epoch 24/35\n",
      "17940/17940 [==============================] - 136s 8ms/step - loss: 0.0365 - acc: 1.0000 - val_loss: 9.2885 - val_acc: 0.5013\n",
      "Epoch 25/35\n",
      "17940/17940 [==============================] - 136s 8ms/step - loss: 0.0299 - acc: 1.0000 - val_loss: 9.2874 - val_acc: 0.5015\n",
      "Epoch 26/35\n",
      "17940/17940 [==============================] - 137s 8ms/step - loss: 0.0250 - acc: 1.0000 - val_loss: 9.3458 - val_acc: 0.5013\n",
      "Epoch 27/35\n",
      "17940/17940 [==============================] - 136s 8ms/step - loss: 0.0213 - acc: 1.0000 - val_loss: 9.3857 - val_acc: 0.5012\n",
      "Epoch 28/35\n",
      "17940/17940 [==============================] - 138s 8ms/step - loss: 0.0183 - acc: 1.0000 - val_loss: 9.4155 - val_acc: 0.5014\n",
      "Epoch 29/35\n",
      "17940/17940 [==============================] - 134s 7ms/step - loss: 0.0159 - acc: 1.0000 - val_loss: 9.4531 - val_acc: 0.5016\n",
      "Epoch 30/35\n",
      "17940/17940 [==============================] - 133s 7ms/step - loss: 0.0139 - acc: 1.0000 - val_loss: 9.4706 - val_acc: 0.5016\n",
      "Epoch 31/35\n",
      "17940/17940 [==============================] - 137s 8ms/step - loss: 0.0123 - acc: 1.0000 - val_loss: 9.4902 - val_acc: 0.5017\n",
      "Epoch 32/35\n",
      "17940/17940 [==============================] - 135s 8ms/step - loss: 0.0109 - acc: 1.0000 - val_loss: 9.5224 - val_acc: 0.5016\n",
      "Epoch 33/35\n",
      "17940/17940 [==============================] - 137s 8ms/step - loss: 0.0097 - acc: 1.0000 - val_loss: 9.5547 - val_acc: 0.5017\n",
      "Epoch 34/35\n",
      "17940/17940 [==============================] - 135s 8ms/step - loss: 0.0087 - acc: 1.0000 - val_loss: 9.5670 - val_acc: 0.5017\n",
      "Epoch 35/35\n",
      "17940/17940 [==============================] - 136s 8ms/step - loss: 0.0079 - acc: 1.0000 - val_loss: 9.5872 - val_acc: 0.5017\n"
     ]
    }
   ],
   "source": [
    "attnModel.compile(optimizer='adam', loss=myLoss, metrics=[acc])\n",
    "\n",
    "# Define empty s0 and c0\n",
    "init_s = np.zeros((len(eng_seq_padded), LATENT_DIM_DECODER))\n",
    "init_c = np.zeros((len(eng_seq_padded), LATENT_DIM_DECODER))\n",
    "\n",
    "# Train\n",
    "history = attnModel.fit(\n",
    "    x=[eng_seq_padded, man_seq_padded, init_s, init_c],\n",
    "    y=man_target_one_hot,\n",
    "    batch_size=BATCHSIZE,\n",
    "    epochs=EPOCH,\n",
    "    validation_split=0.22\n",
    ")"
   ]
  },
  {
   "cell_type": "markdown",
   "metadata": {},
   "source": [
    "Plot training history."
   ]
  },
  {
   "cell_type": "code",
   "execution_count": 16,
   "metadata": {},
   "outputs": [
    {
     "data": {
      "image/png": "[encoded data removed]",
      "text/plain": [
       "<Figure size 432x288 with 1 Axes>"
      ]
     },
     "metadata": {
      "needs_background": "light"
     },
     "output_type": "display_data"
    },
    {
     "data": {
      "image/png": "[encoded data removed]",
      "text/plain": [
       "<Figure size 432x288 with 1 Axes>"
      ]
     },
     "metadata": {
      "needs_background": "light"
     },
     "output_type": "display_data"
    }
   ],
   "source": [
    "plt.plot(history.history['loss'], label='loss')\n",
    "plt.plot(history.history['val_loss'], label='val_loss')\n",
    "plt.legend()\n",
    "plt.show()\n",
    "\n",
    "plt.plot(history.history['acc'], label='acc')\n",
    "plt.plot(history.history['val_acc'], label='val_acc')\n",
    "plt.legend()\n",
    "plt.show()"
   ]
  },
  {
   "cell_type": "code",
   "execution_count": 17,
   "metadata": {},
   "outputs": [],
   "source": [
    "attnModel.save('attention_model_35_man.h5')"
   ]
  },
  {
   "cell_type": "markdown",
   "metadata": {},
   "source": [
    "# Inference Model"
   ]
  },
  {
   "cell_type": "markdown",
   "metadata": {},
   "source": [
    "Since in the inference model teacher forcing is not available, thus the model needs to be modified to use the previous inference result."
   ]
  },
  {
   "cell_type": "code",
   "execution_count": 18,
   "metadata": {},
   "outputs": [],
   "source": [
    "# Encoder\n",
    "encoder_inf = Model(input_layer_encoder, encoder_out)\n",
    "encoder_out_inf = Input(shape=(max_in_len, LATENT_DIM * 2,))\n",
    "\n",
    "# Decoder\n",
    "decoder_in_inf = Input(shape=(1,))\n",
    "decoder_in_embed_inf = embed_decoder(decoder_in_inf)\n",
    "\n",
    "# Context, concat without teacher forcing.\n",
    "context_inf = iterAttn(encoder_out_inf, s0)\n",
    "decoder_in_concat_inf = concat2([context_inf, decoder_in_embed_inf])\n",
    "\n",
    "# Decoder inference\n",
    "pred, s, c = decoder(decoder_in_concat_inf, initial_state=[s0, c0])\n",
    "pred_out = dense_decode(pred)\n",
    "\n",
    "# Define model\n",
    "decoder_inf = Model(\n",
    "    inputs=[decoder_in_inf, encoder_out_inf, s0, c0],\n",
    "    outputs=[pred_out, s, c]\n",
    ")"
   ]
  },
  {
   "cell_type": "markdown",
   "metadata": {},
   "source": [
    "Reverse the word-to-index maps to convert translated indices to words. Then use the inference encoder and decoder models to create predictions."
   ]
  },
  {
   "cell_type": "code",
   "execution_count": 19,
   "metadata": {},
   "outputs": [],
   "source": [
    "idx2word_in = {b:a for a, b in word2idx_in.items()}\n",
    "idx2word_out = {b:a for a, b in word2idx_out.items()}\n",
    "\n",
    "def inference(eng_seq):\n",
    "    # Encode\n",
    "    encoder_output = encoder_inf.predict(eng_seq)\n",
    "    \n",
    "    # Create output seq matrix\n",
    "    target_output = np.zeros((1, 1))\n",
    "    target_output[0, 0] = word2idx_out['<sos>']\n",
    "    \n",
    "    # init\n",
    "    eos = word2idx_out['<eos>']\n",
    "    s0 = np.zeros((1, LATENT_DIM_DECODER))\n",
    "    c0 = np.zeros((1, LATENT_DIM_DECODER))\n",
    "    \n",
    "    output_seq = []\n",
    "    s = s0\n",
    "    c = c0\n",
    "    for _ in range(max_out_len):\n",
    "        # Decoder inference\n",
    "        pred, s, c = decoder_inf.predict([target_output, encoder_output, s, c])\n",
    "        \n",
    "        # update output seq\n",
    "        tok = np.argmax(pred.flatten())\n",
    "        if tok == eos:\n",
    "            break\n",
    "        if tok > 0:\n",
    "            word = idx2word_out[tok]\n",
    "            output_seq.append(word)\n",
    "\n",
    "        # Update decoder input\n",
    "        target_output[0, 0] = tok\n",
    "        \n",
    "    sentence = ' '.join(output_seq)\n",
    "    return sentence"
   ]
  },
  {
   "cell_type": "markdown",
   "metadata": {},
   "source": [
    "Observe some of the sample inference results:"
   ]
  },
  {
   "cell_type": "code",
   "execution_count": 20,
   "metadata": {},
   "outputs": [
    {
     "name": "stdout",
     "output_type": "stream",
     "text": [
      "--------------------------------------\n",
      "English: Who's going to believe that?\n",
      "Prediction: 谁都会犯错。 不是嗎？ 。 。\n",
      "Ground truth: 谁会信呢？ <eos>\n",
      "--------------------------------------\n",
      "English: Just give me your name and address.\n",
      "Prediction: 她說她晚一點會打電話給你。 我會注意聽。 。 。\n",
      "Ground truth: 只要給我你的姓名和住址。 <eos>\n",
      "--------------------------------------\n",
      "English: Did you notice anything strange?\n",
      "Prediction: 你喜欢吗 不是嗎？ 。 ?\n",
      "Ground truth: 你注意到奇怪的地方了嗎？ <eos>\n",
      "--------------------------------------\n",
      "English: He stole her watch.\n",
      "Prediction: 他有資格當選總統。 是嗎? 。 。\n",
      "Ground truth: 他偷了她的手表。 <eos>\n",
      "--------------------------------------\n",
      "English: No one comes to visit me anymore.\n",
      "Prediction: 她說她晚一點會打電話給你。 “汤姆。” 。 。\n",
      "Ground truth: 已经没人来拜访我了。 <eos>\n",
      "--------------------------------------\n",
      "English: I wanted to become a philosopher.\n",
      "Prediction: 他假裝沒有聽見我。 \"我幫你。\" 。 。\n",
      "Ground truth: 我想成为哲学家。 <eos>\n",
      "--------------------------------------\n",
      "English: He began to cry.\n",
      "Prediction: 他有資格當選總統。 是嗎? 。 。\n",
      "Ground truth: 他开始哭了。 <eos>\n",
      "--------------------------------------\n",
      "English: He was mad because he was not invited.\n",
      "Prediction: 他決定不要去派對了。 。 。 。\n",
      "Ground truth: 他因为没有被邀请而气得快疯了。 <eos>\n",
      "--------------------------------------\n",
      "English: I cut a branch from the tree.\n",
      "Prediction: 我幫我父親做這個工作。 。 。 。\n",
      "Ground truth: 我從樹上砍下了一根樹枝。 <eos>\n",
      "--------------------------------------\n",
      "English: Tom and Mary will go with me.\n",
      "Prediction: “谁在车里？” “汤姆。” 。 。\n",
      "Ground truth: 湯姆和瑪麗會跟我走。 <eos>\n",
      "--------------------------------------\n",
      "English: She felt herself being lifted up.\n",
      "Prediction: 給我一桶水。 119。 。 。\n",
      "Ground truth: 她覺得自己好像被舉起來了。 <eos>\n",
      "--------------------------------------\n",
      "English: I heard Tom was captured.\n",
      "Prediction: 我不在乎他們說什麼。 不是嗎？ 。 。\n",
      "Ground truth: 我听说汤姆被捕了。 <eos>\n",
      "--------------------------------------\n",
      "English: Visiting a foreign country must be expensive.\n",
      "Prediction: 湯姆今天做得非常好。 “汤姆。” 。 。\n",
      "Ground truth: 到外國一定很貴。 <eos>\n",
      "--------------------------------------\n",
      "English: The child has a case of chicken pox.\n",
      "Prediction: 這位老人下了公車。 我會注意聽。 。 。\n",
      "Ground truth: 这孩子有水痘的症状。 <eos>\n",
      "--------------------------------------\n",
      "English: I want the same jacket as you are wearing.\n",
      "Prediction: 我應該告訴湯姆我該做甚麼。 我正在寫信。 。 。\n",
      "Ground truth: 我也想要和你身上那件同样的外套。 <eos>\n",
      "--------------------------------------\n",
      "English: Tom is leaving Boston tomorrow.\n",
      "Prediction: 湯姆擅長烹飪。 那麼你就會成功。 。 。\n",
      "Ground truth: 湯姆明天離開波士頓。 <eos>\n",
      "--------------------------------------\n",
      "English: Tickets are available now.\n",
      "Prediction: 不要往我房间里看。 是嗎? 。 。\n",
      "Ground truth: 现在有票。 <eos>\n",
      "--------------------------------------\n",
      "English: How come you didn't say anything?\n",
      "Prediction: 我想我给汤姆打电话比较好。 不是嗎？ 。 。\n",
      "Ground truth: 你怎麼什麼話也沒說？ <eos>\n",
      "--------------------------------------\n",
      "English: I have decided to carry on the work.\n",
      "Prediction: 我幫我父親做這個工作。 。 。 。\n",
      "Ground truth: 我决定继续工作。 <eos>\n",
      "--------------------------------------\n",
      "English: What's your hobby?\n",
      "Prediction: 那是我的字典。 不是嗎? 。 。\n",
      "Ground truth: 你的爱好是什么？ <eos>\n"
     ]
    }
   ],
   "source": [
    "for _ in range(20):\n",
    "    i = np.random.choice(len(eng))\n",
    "    eng_sen = eng_seq_padded[i:i+1]\n",
    "    man_pred = inference(eng_sen)\n",
    "\n",
    "    print('--------------------------------------')\n",
    "    print('English: {}'.format(eng[i]))\n",
    "    print('Prediction: {}'.format(man_pred))\n",
    "    print('Ground truth: {}'.format(man[i])) "
   ]
  }
 ],
 "metadata": {
  "kernelspec": {
   "display_name": "Python 3",
   "language": "python",
   "name": "python3"
  },
  "language_info": {
   "codemirror_mode": {
    "name": "ipython",
    "version": 3
   },
   "file_extension": ".py",
   "mimetype": "text/x-python",
   "name": "python",
   "nbconvert_exporter": "python",
   "pygments_lexer": "ipython3",
   "version": "3.7.6"
  }
 },
 "nbformat": 4,
 "nbformat_minor": 4
}
